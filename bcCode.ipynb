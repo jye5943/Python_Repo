{
 "cells": [
  {
   "cell_type": "code",
   "execution_count": 47,
   "metadata": {},
   "outputs": [],
   "source": [
    "import hashlib\n",
    "import time\n",
    "import csv\n",
    "import random\n",
    "from http.server import BaseHTTPRequestHandler, HTTPServer  # 이거 파이썬 3.0버전에서만 사용가능함\n",
    "from socketserver import ThreadingMixIn\n",
    "import json\n",
    "import re\n",
    "from urllib.parse import parse_qs\n",
    "from urllib.parse import urlparse\n",
    "import threading\n",
    "import cgi\n",
    "import uuid\n",
    "from tempfile import NamedTemporaryFile\n",
    "import shutil\n",
    "import requests\n",
    "import pymysql\n",
    "from sqlalchemy import create_engine"
   ]
  },
  {
   "cell_type": "code",
   "execution_count": 70,
   "metadata": {},
   "outputs": [],
   "source": [
    "def getTxData2(chooseData):\n",
    "    params = {\"data\" : chooseData}\n",
    "    url = \"http://192.168.110.16.:8099/block/generateBlock\"\n",
    "    txList = []\n",
    "    try : \n",
    "        r = requests.get(url=url, params=params)\n",
    "        print(r.url)\n",
    "        tmpData = json.loads(r.text)\n",
    "        print(tmpData)\n",
    "        if r.status_code == 200 :\n",
    "            for data in tmpData :\n",
    "                txData = [data['commitYN'], data['sender'], data['amount'], data['receiver'],data['fee'], data['uuid'], data['transactionTime']]\n",
    "                print(txData)\n",
    "                txList.append(txData)\n",
    "            return txList, True\n",
    "        else :\n",
    "            return [], False            \n",
    "    except:\n",
    "        return [], False"
   ]
  },
  {
   "cell_type": "code",
   "execution_count": 19,
   "metadata": {},
   "outputs": [],
   "source": [
    "def getTxData(chooseData):    \n",
    "    url = \"http://192.168.110.22:8099/getTxData/zero\"\n",
    "    if (chooseData == 1) :\n",
    "        url = \"http://192.168.110.22:8099/getTxData/all\"\n",
    "    txList = []\n",
    "    try :\n",
    "        r = requests.get(url=url)\n",
    "        if r.status_code == 200 :\n",
    "            print(200)\n",
    "            print(r.url)\n",
    "            tmpData = json.loads(r.text)\n",
    "            return tmpData, True\n",
    "        else :\n",
    "            return {}, False \n",
    "    except:\n",
    "        return {}, False"
   ]
  },
  {
   "cell_type": "code",
   "execution_count": 24,
   "metadata": {},
   "outputs": [
    {
     "name": "stdout",
     "output_type": "stream",
     "text": [
      "200\n",
      "http://192.168.110.22:8099/getTxData/zero\n"
     ]
    }
   ],
   "source": [
    "txData, boolData = getTxData(0)"
   ]
  },
  {
   "cell_type": "code",
   "execution_count": 34,
   "metadata": {},
   "outputs": [
    {
     "data": {
      "text/plain": [
       "[{'amount': '1000',\n",
       "  'commitYN': 0,\n",
       "  'fee': '9',\n",
       "  'receiver': 'Ji',\n",
       "  'sender': 'hwang',\n",
       "  'transactionTime': 1559210000.0,\n",
       "  'uuid': '426845ad-37f0-4550-b51f-8ec31f12351e'}]"
      ]
     },
     "execution_count": 34,
     "metadata": {},
     "output_type": "execute_result"
    }
   ],
   "source": [
    "txData"
   ]
  },
  {
   "cell_type": "code",
   "execution_count": 36,
   "metadata": {},
   "outputs": [
    {
     "name": "stdout",
     "output_type": "stream",
     "text": [
      "[426845ad-37f0-4550-b51f-8ec31f12351e]UserID hwang sent 1000 bitTokens to UserID Ji fee 9 transaction time 1559210000.0. \n"
     ]
    },
    {
     "data": {
      "text/plain": [
       "'[426845ad-37f0-4550-b51f-8ec31f12351e]UserID hwang sent 1000 bitTokens to UserID Ji fee 9 transaction time 1559210000.0. '"
      ]
     },
     "execution_count": 36,
     "metadata": {},
     "output_type": "execute_result"
    }
   ],
   "source": [
    "getStrTxData(txData)"
   ]
  },
  {
   "cell_type": "code",
   "execution_count": 41,
   "metadata": {},
   "outputs": [
    {
     "name": "stdout",
     "output_type": "stream",
     "text": [
      "hash merkling..................\n",
      "[426845ad-37f0-4550-b51f-8ec31f12351e]UserID hwang sent 1000 bitTokens to UserID Ji fee 9 transaction time 1559210000.0. \n"
     ]
    },
    {
     "data": {
      "text/plain": [
       "['[426845ad-37f0-4550-b51f-8ec31f12351e]UserID hwang sent 1000 bitTokens to UserID Ji fee 9 transaction time 1559210000.0. ']"
      ]
     },
     "execution_count": 41,
     "metadata": {},
     "output_type": "execute_result"
    }
   ],
   "source": [
    "calculateMerkleHash(txData)"
   ]
  },
  {
   "cell_type": "code",
   "execution_count": 35,
   "metadata": {},
   "outputs": [],
   "source": [
    "def getStrTxData(txData) :\n",
    "    strTxData = ''\n",
    "    if len(txData) > 0:\n",
    "        for i in txData:\n",
    "            transaction = \"[\" + i['uuid'] + \"]\" \"UserID \" + i['sender'] + \" sent \" + i['amount'] + \" bitTokens to UserID \" + \\\n",
    "i['receiver'] + \" fee \"+ i['fee'] + \" transaction time \" + str(i['transactionTime']) + \". \"\n",
    "            print(transaction)\n",
    "            strTxData += transaction\n",
    "    return strTxData"
   ]
  },
  {
   "cell_type": "code",
   "execution_count": 40,
   "metadata": {},
   "outputs": [],
   "source": [
    "def calculateMerkleHash(txData) :\n",
    "    txDataList = []\n",
    "    print(\"hash merkling..................\")\n",
    "    if len(txData) > 0:\n",
    "        for i in txData:\n",
    "            transaction = \"[\" + i['uuid'] + \"]\" \"UserID \" + i['sender'] + \" sent \" + i['amount'] + \" bitTokens to UserID \" + \\\n",
    "i['receiver'] + \" fee \"+ i['fee'] + \" transaction time \" + str(i['transactionTime']) + \". \"\n",
    "            print(transaction)\n",
    "            txDataList.append(transaction)\n",
    "    return txDataList        \n",
    "#     return rcGetMerkleHash(txDataList)"
   ]
  },
  {
   "cell_type": "code",
   "execution_count": 31,
   "metadata": {},
   "outputs": [],
   "source": [
    "def generateNextBlock(blockchain, timestamp, proof):\n",
    "    previousBlock = getLatestBlock(blockchain)\n",
    "    nextIndex = int(previousBlock.index) + 1\n",
    "    nextTimestamp = timestamp\n",
    "\n",
    "    txData = getTxData(0)\n",
    "    strTxData = getStrTxData(txDataList)\n",
    "\n",
    "    merkleHash = calculateMerkleHash(txData)\n",
    "\n",
    "    nextHash = calculateHash(nextIndex, previousBlock.currentHash, nextTimestamp, proof, merkleHash)\n",
    "    \n",
    "    return Block(nextIndex, previousBlock.currentHash, nextTimestamp, strTxData, nextHash, proof, merkleHash)"
   ]
  },
  {
   "cell_type": "code",
   "execution_count": 32,
   "metadata": {},
   "outputs": [],
   "source": [
    "def generateGenesisBlock():\n",
    "    print(\"generateGenesisBlock is called\")\n",
    "\n",
    "    timestamp = time.time()\n",
    "\n",
    "    print(\"time.time() => %f \\n\" % timestamp)\n",
    "\n",
    "    txDataList = readTx(g_txFileName)\n",
    "    print(txDataList)\n",
    "    merkleHash = calculateMerkleHash(txDataList)\n",
    "\n",
    "\n",
    "    tempHash = calculateHash(0, '0', timestamp, 0, merkleHash)\n",
    "    print(tempHash)\n",
    "\n",
    "    txDataList = readTx(g_txFileName)\n",
    "    genesisblockData = getTxData(txDataList)\n",
    "    return Block(0, '0', timestamp, genesisblockData, tempHash, 0, merkleHash)"
   ]
  },
  {
   "cell_type": "code",
   "execution_count": 111,
   "metadata": {},
   "outputs": [],
   "source": [
    "def addNode(queryStr):\n",
    "    result = 1\n",
    "    conn = pymysql.connect(\n",
    "        host=\"192.168.110.23\", \n",
    "        port =3300,\n",
    "        user=\"root\",\n",
    "        passwd=\"root\",\n",
    "        database=\"bcsvr3\")\n",
    "    cursor = conn.cursor()\n",
    "    try:\n",
    "        with conn.cursor() as cursor:\n",
    "            sql = '''Select ip, port FROM testnode1 WHERE ip = %s AND port = %s'''\n",
    "            cursor.execute(sql,(queryStr[0], queryStr[1]))\n",
    "            rows = cursor.fetchall()\n",
    "            conn.commit()\n",
    "        if len(rows) == 0 :\n",
    "            try:\n",
    "                with conn.cursor() as cursor:\n",
    "                    sql = \"\"\"insert into testnode1 VALUES (%s,%s,%s) \"\"\"\n",
    "                    cursor.execute(sql,(queryStr[0], queryStr[1], 0))\n",
    "                    rows = cursor.fetchall() \n",
    "                    conn.commit()\n",
    "                    print('new node written') \n",
    "            except:\n",
    "                result = 0\n",
    "            finally:\n",
    "                conn.close()  \n",
    "        else :\n",
    "            print(\"requested node is already exists\")\n",
    "            result = -1\n",
    "    except:\n",
    "        try:\n",
    "            with conn.cursor() as cursor:\n",
    "                sql = '''CREATE TABLE testnode1 (\n",
    "                        ip varchar(255) NOT NULL,\n",
    "                        port int(11) NOT NULL,\n",
    "                        tryconnect int(11) NOT NULL)'''\n",
    "                cursor.execute(sql)\n",
    "                rows = cursor.fetchall() \n",
    "                sql = \"\"\"insert into testnode1 VALUES (%s,%s,%s) \"\"\"\n",
    "                cursor.execute(sql,(queryStr[0], queryStr[1], 0))\n",
    "                conn.commit()\n",
    "                print('new node written') \n",
    "        except:\n",
    "            result = 0\n",
    "        finally:\n",
    "            conn.close()    \n",
    "    return result"
   ]
  },
  {
   "cell_type": "code",
   "execution_count": 115,
   "metadata": {},
   "outputs": [],
   "source": [
    "queryStr = \"192.168.110.22:3333\"\n",
    "aa = queryStr.split(\":\")"
   ]
  },
  {
   "cell_type": "code",
   "execution_count": 116,
   "metadata": {},
   "outputs": [
    {
     "name": "stdout",
     "output_type": "stream",
     "text": [
      "requested node is already exists\n"
     ]
    },
    {
     "data": {
      "text/plain": [
       "-1"
      ]
     },
     "execution_count": 116,
     "metadata": {},
     "output_type": "execute_result"
    }
   ],
   "source": [
    "addNode(aa)"
   ]
  },
  {
   "cell_type": "code",
   "execution_count": null,
   "metadata": {},
   "outputs": [],
   "source": []
  }
 ],
 "metadata": {
  "kernelspec": {
   "display_name": "Python 3",
   "language": "python",
   "name": "python3"
  },
  "language_info": {
   "codemirror_mode": {
    "name": "ipython",
    "version": 3
   },
   "file_extension": ".py",
   "mimetype": "text/x-python",
   "name": "python",
   "nbconvert_exporter": "python",
   "pygments_lexer": "ipython3",
   "version": "3.6.4"
  }
 },
 "nbformat": 4,
 "nbformat_minor": 2
}
