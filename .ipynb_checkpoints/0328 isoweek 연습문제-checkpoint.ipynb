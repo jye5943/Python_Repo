{
 "cells": [
  {
   "cell_type": "code",
   "execution_count": 166,
   "metadata": {},
   "outputs": [],
   "source": [
    "from isoweek import Week"
   ]
  },
  {
   "cell_type": "code",
   "execution_count": 167,
   "metadata": {},
   "outputs": [],
   "source": [
    "inputNumber = 201830"
   ]
  },
  {
   "cell_type": "code",
   "execution_count": 168,
   "metadata": {},
   "outputs": [],
   "source": [
    "gapWeek = 27"
   ]
  },
  {
   "cell_type": "code",
   "execution_count": 169,
   "metadata": {},
   "outputs": [],
   "source": [
    "#index를 하기 위해서 str형으로 변환\n",
    "currYearWeek=str(inputNumber)"
   ]
  },
  {
   "cell_type": "code",
   "execution_count": 170,
   "metadata": {},
   "outputs": [],
   "source": [
    "#Year와 week를 int로 변환\n",
    "currYear = int(currYearWeek[0:4])\n",
    "currWeek = int(currYearWeek[4:])"
   ]
  },
  {
   "cell_type": "code",
   "execution_count": 171,
   "metadata": {
    "scrolled": true
   },
   "outputs": [],
   "source": [
    "#gap이 현재주차에서 넣고자 하는 주차를 뺀 것 (gap은 return해야되는 week정보)\n",
    "gap = currWeek - gapWeek"
   ]
  },
  {
   "cell_type": "code",
   "execution_count": 172,
   "metadata": {},
   "outputs": [],
   "source": [
    "#예외사항 ) gap <=0\n",
    "if (gap>0):\n",
    "    gap=gap    \n",
    "else :\n",
    "    while (gap<=0):\n",
    "        currYear = currYear - 1\n",
    "        gap = Week.last_week_of_year(currYear).week + gap"
   ]
  },
  {
   "cell_type": "code",
   "execution_count": 173,
   "metadata": {},
   "outputs": [],
   "source": [
    "if (int(gap)<10):\n",
    "    gap = \"0\"+str(gap)  "
   ]
  },
  {
   "cell_type": "code",
   "execution_count": 175,
   "metadata": {},
   "outputs": [
    {
     "data": {
      "text/plain": [
       "'201803'"
      ]
     },
     "execution_count": 175,
     "metadata": {},
     "output_type": "execute_result"
    }
   ],
   "source": [
    "answer = str(currYear) + str(gap)\n",
    "answer"
   ]
  },
  {
   "cell_type": "code",
   "execution_count": null,
   "metadata": {},
   "outputs": [],
   "source": [
    "def hamsu (inputNumber, gapWeek) :\n",
    "    currYearWeek=str(inputNumber)\n",
    "    currYear = int(currYearWeek[0:4])\n",
    "    currWeek = int(currYearWeek[4:])\n",
    "    gap = currWeek - gapWeek\n",
    "    if (gap>0):\n",
    "    gap=gap    \n",
    "else :\n",
    "    while (gap<=0):\n",
    "        currYear = currYear - 1\n",
    "        gap = Week.last_week_of_year(currYear).week + gap"
   ]
  }
 ],
 "metadata": {
  "kernelspec": {
   "display_name": "Python 3",
   "language": "python",
   "name": "python3"
  },
  "language_info": {
   "codemirror_mode": {
    "name": "ipython",
    "version": 3
   },
   "file_extension": ".py",
   "mimetype": "text/x-python",
   "name": "python",
   "nbconvert_exporter": "python",
   "pygments_lexer": "ipython3",
   "version": "3.6.4"
  }
 },
 "nbformat": 4,
 "nbformat_minor": 2
}
