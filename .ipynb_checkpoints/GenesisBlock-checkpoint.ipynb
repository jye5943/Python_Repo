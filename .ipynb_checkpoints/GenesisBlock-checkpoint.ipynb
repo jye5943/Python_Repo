{
 "cells": [
  {
   "cell_type": "code",
   "execution_count": 2,
   "metadata": {},
   "outputs": [],
   "source": [
    "def generateGenesisBlock(gblist):\n",
    "    gblist = []\n",
    "    print(\"generateGenesisBlock is called\")\n",
    "    timestamp = time.time()\n",
    "    # 불러온 시간 확인\n",
    "    print(\"time.time() => %f \\n\" % timestamp)\n",
    "\n",
    "    txDataList = readTx(g_txFileName)\n",
    "    merkleHash = calculateMerkleHash(txDataList)\n",
    "  \n",
    "\n",
    "    tempHash = calculateHash(0, '0', timestamp, 0, merkleHash)\n",
    "    print(tempHash)\n",
    "  \n",
    "    txDataList = readTx(g_txFileName)\n",
    "    genesisblockData = getTxData(txDataList)\n",
    "\n",
    "    return  gblist = [0, '0', timestamp, genesisblockData, tempHash, 0, merkleHash]"
   ]
  }
 ],
 "metadata": {
  "kernelspec": {
   "display_name": "Python 3",
   "language": "python",
   "name": "python3"
  },
  "language_info": {
   "codemirror_mode": {
    "name": "ipython",
    "version": 3
   },
   "file_extension": ".py",
   "mimetype": "text/x-python",
   "name": "python",
   "nbconvert_exporter": "python",
   "pygments_lexer": "ipython3",
   "version": "3.6.4"
  }
 },
 "nbformat": 4,
 "nbformat_minor": 2
}
