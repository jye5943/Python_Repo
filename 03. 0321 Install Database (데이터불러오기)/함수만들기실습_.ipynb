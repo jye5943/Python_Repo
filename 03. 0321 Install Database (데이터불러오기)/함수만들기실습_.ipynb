{
 "cells": [
  {
   "cell_type": "markdown",
   "metadata": {},
   "source": [
    "## 실습2. 리스트를 인수로 받아서 최대, 최소값을 뺀 평균을 구하는 함수를 생성하세요.\n"
   ]
  },
  {
   "cell_type": "code",
   "execution_count": 89,
   "metadata": {},
   "outputs": [],
   "source": [
    "list2 = [32,3,4,5,41,0,3,4,4,-234]"
   ]
  },
  {
   "cell_type": "code",
   "execution_count": 92,
   "metadata": {},
   "outputs": [],
   "source": [
    "def sumStep (a) :\n",
    "    step1= sum(a)\n",
    "    step2= max(a)+min(a)\n",
    "    step3= (step1-step2) / (len(a)-2)\n",
    "    return step3\n",
    "##여기서 a라고 한 이유는 a자리에 들어가는 변수는 지역변수 이기 때문에 함수 안에서만 유효한 거기 때문이다. \n",
    "##수학에서 x,y,z 같은 역할 인 것! y=2x 처럼 정의해 주는 역할일 뿐인거지!"
   ]
  },
  {
   "cell_type": "code",
   "execution_count": 93,
   "metadata": {},
   "outputs": [
    {
     "data": {
      "text/plain": [
       "6.875"
      ]
     },
     "execution_count": 93,
     "metadata": {},
     "output_type": "execute_result"
    }
   ],
   "source": [
    "sumStep(list2)"
   ]
  },
  {
   "cell_type": "code",
   "execution_count": null,
   "metadata": {},
   "outputs": [],
   "source": []
  },
  {
   "cell_type": "code",
   "execution_count": null,
   "metadata": {},
   "outputs": [],
   "source": []
  }
 ],
 "metadata": {
  "kernelspec": {
   "display_name": "Python 3",
   "language": "python",
   "name": "python3"
  },
  "language_info": {
   "codemirror_mode": {
    "name": "ipython",
    "version": 3
   },
   "file_extension": ".py",
   "mimetype": "text/x-python",
   "name": "python",
   "nbconvert_exporter": "python",
   "pygments_lexer": "ipython3",
   "version": "3.6.4"
  }
 },
 "nbformat": 4,
 "nbformat_minor": 2
}
