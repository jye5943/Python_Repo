{
 "cells": [
  {
   "cell_type": "code",
   "execution_count": 13,
   "metadata": {},
   "outputs": [],
   "source": [
    "import pandas as pd\n",
    "import numpy as np"
   ]
  },
  {
   "cell_type": "code",
   "execution_count": 14,
   "metadata": {},
   "outputs": [],
   "source": [
    "selloutData =pd.read_csv(\"../dataset/kopo_channel_seasonality_new.csv\")"
   ]
  },
  {
   "cell_type": "code",
   "execution_count": 15,
   "metadata": {},
   "outputs": [
    {
     "data": {
      "text/html": [
       "<div>\n",
       "<style scoped>\n",
       "    .dataframe tbody tr th:only-of-type {\n",
       "        vertical-align: middle;\n",
       "    }\n",
       "\n",
       "    .dataframe tbody tr th {\n",
       "        vertical-align: top;\n",
       "    }\n",
       "\n",
       "    .dataframe thead th {\n",
       "        text-align: right;\n",
       "    }\n",
       "</style>\n",
       "<table border=\"1\" class=\"dataframe\">\n",
       "  <thead>\n",
       "    <tr style=\"text-align: right;\">\n",
       "      <th></th>\n",
       "      <th>REGIONID</th>\n",
       "      <th>PRODUCT</th>\n",
       "      <th>YEARWEEK</th>\n",
       "      <th>QTY</th>\n",
       "    </tr>\n",
       "  </thead>\n",
       "  <tbody>\n",
       "    <tr>\n",
       "      <th>0</th>\n",
       "      <td>A60</td>\n",
       "      <td>PRODUCT4</td>\n",
       "      <td>201402</td>\n",
       "      <td>71.0</td>\n",
       "    </tr>\n",
       "  </tbody>\n",
       "</table>\n",
       "</div>"
      ],
      "text/plain": [
       "  REGIONID   PRODUCT  YEARWEEK   QTY\n",
       "0      A60  PRODUCT4    201402  71.0"
      ]
     },
     "execution_count": 15,
     "metadata": {},
     "output_type": "execute_result"
    }
   ],
   "source": [
    "selloutData.head(1)"
   ]
  },
  {
   "cell_type": "code",
   "execution_count": 40,
   "metadata": {},
   "outputs": [],
   "source": [
    "selloutData[\"NEW_QTY\"] = np.where(selloutData[\"QTY\"]<0 ,0, selloutData[\"QTY\"])"
   ]
  },
  {
   "cell_type": "code",
   "execution_count": 41,
   "metadata": {},
   "outputs": [
    {
     "data": {
      "text/html": [
       "<div>\n",
       "<style scoped>\n",
       "    .dataframe tbody tr th:only-of-type {\n",
       "        vertical-align: middle;\n",
       "    }\n",
       "\n",
       "    .dataframe tbody tr th {\n",
       "        vertical-align: top;\n",
       "    }\n",
       "\n",
       "    .dataframe thead th {\n",
       "        text-align: right;\n",
       "    }\n",
       "</style>\n",
       "<table border=\"1\" class=\"dataframe\">\n",
       "  <thead>\n",
       "    <tr style=\"text-align: right;\">\n",
       "      <th></th>\n",
       "      <th>REGIONID</th>\n",
       "      <th>PRODUCT</th>\n",
       "      <th>YEARWEEK</th>\n",
       "      <th>QTY</th>\n",
       "      <th>NEW_QTY</th>\n",
       "      <th>WEEK</th>\n",
       "      <th>YEAR</th>\n",
       "    </tr>\n",
       "  </thead>\n",
       "  <tbody>\n",
       "    <tr>\n",
       "      <th>0</th>\n",
       "      <td>A60</td>\n",
       "      <td>PRODUCT4</td>\n",
       "      <td>201402</td>\n",
       "      <td>71.0</td>\n",
       "      <td>71.0</td>\n",
       "      <td>2</td>\n",
       "      <td>2014.0</td>\n",
       "    </tr>\n",
       "    <tr>\n",
       "      <th>1</th>\n",
       "      <td>A60</td>\n",
       "      <td>PRODUCT59</td>\n",
       "      <td>201402</td>\n",
       "      <td>22275.0</td>\n",
       "      <td>22275.0</td>\n",
       "      <td>2</td>\n",
       "      <td>2014.0</td>\n",
       "    </tr>\n",
       "    <tr>\n",
       "      <th>2</th>\n",
       "      <td>A60</td>\n",
       "      <td>PRODUCT34</td>\n",
       "      <td>201402</td>\n",
       "      <td>4463.0</td>\n",
       "      <td>4463.0</td>\n",
       "      <td>2</td>\n",
       "      <td>2014.0</td>\n",
       "    </tr>\n",
       "    <tr>\n",
       "      <th>3</th>\n",
       "      <td>A60</td>\n",
       "      <td>PRODUCT47</td>\n",
       "      <td>201402</td>\n",
       "      <td>0.0</td>\n",
       "      <td>0.0</td>\n",
       "      <td>2</td>\n",
       "      <td>2014.0</td>\n",
       "    </tr>\n",
       "    <tr>\n",
       "      <th>4</th>\n",
       "      <td>A60</td>\n",
       "      <td>PRODUCT56</td>\n",
       "      <td>201402</td>\n",
       "      <td>23.0</td>\n",
       "      <td>23.0</td>\n",
       "      <td>2</td>\n",
       "      <td>2014.0</td>\n",
       "    </tr>\n",
       "  </tbody>\n",
       "</table>\n",
       "</div>"
      ],
      "text/plain": [
       "  REGIONID    PRODUCT  YEARWEEK      QTY  NEW_QTY  WEEK    YEAR\n",
       "0      A60   PRODUCT4    201402     71.0     71.0     2  2014.0\n",
       "1      A60  PRODUCT59    201402  22275.0  22275.0     2  2014.0\n",
       "2      A60  PRODUCT34    201402   4463.0   4463.0     2  2014.0\n",
       "3      A60  PRODUCT47    201402      0.0      0.0     2  2014.0\n",
       "4      A60  PRODUCT56    201402     23.0     23.0     2  2014.0"
      ]
     },
     "execution_count": 41,
     "metadata": {},
     "output_type": "execute_result"
    }
   ],
   "source": [
    "selloutData.head()"
   ]
  },
  {
   "cell_type": "markdown",
   "metadata": {},
   "source": [
    "#### 53주차 제거"
   ]
  },
  {
   "cell_type": "code",
   "execution_count": 36,
   "metadata": {
    "scrolled": false
   },
   "outputs": [
    {
     "data": {
      "text/plain": [
       "REGIONID     object\n",
       "PRODUCT      object\n",
       "YEARWEEK      int64\n",
       "QTY         float64\n",
       "NEW_QTY       int32\n",
       "WEEK          int64\n",
       "YEAR        float64\n",
       "dtype: object"
      ]
     },
     "execution_count": 36,
     "metadata": {},
     "output_type": "execute_result"
    }
   ],
   "source": [
    "selloutData.dtypes"
   ]
  },
  {
   "cell_type": "code",
   "execution_count": 37,
   "metadata": {},
   "outputs": [],
   "source": [
    "selloutData[\"WEEK\"] = selloutData[\"YEARWEEK\"]%100"
   ]
  },
  {
   "cell_type": "markdown",
   "metadata": {},
   "source": [
    "### yearValue는 YEARWEEK에서 YEAR만 분리한 값(함수 만들어서 분리하기)"
   ]
  },
  {
   "cell_type": "markdown",
   "metadata": {},
   "source": [
    "##### 함수 만들기"
   ]
  },
  {
   "cell_type": "code",
   "execution_count": 73,
   "metadata": {},
   "outputs": [],
   "source": [
    "def customFuntion(inputColumn):\n",
    "    inputColumn =201601\n",
    "    yearValue =inputColumn/100\n",
    "    yearValue = int(yearValue)\n",
    "    return yearValue"
   ]
  },
  {
   "cell_type": "markdown",
   "metadata": {},
   "source": [
    "##### YEAR 컬럼 만들고 위 함수 적용하기"
   ]
  },
  {
   "cell_type": "code",
   "execution_count": 44,
   "metadata": {},
   "outputs": [],
   "source": [
    "selloutData[\"YEAR\"] =selloutData[\"YEARWEEK\"].apply(customFuntion)"
   ]
  },
  {
   "cell_type": "code",
   "execution_count": 45,
   "metadata": {},
   "outputs": [
    {
     "data": {
      "text/html": [
       "<div>\n",
       "<style scoped>\n",
       "    .dataframe tbody tr th:only-of-type {\n",
       "        vertical-align: middle;\n",
       "    }\n",
       "\n",
       "    .dataframe tbody tr th {\n",
       "        vertical-align: top;\n",
       "    }\n",
       "\n",
       "    .dataframe thead th {\n",
       "        text-align: right;\n",
       "    }\n",
       "</style>\n",
       "<table border=\"1\" class=\"dataframe\">\n",
       "  <thead>\n",
       "    <tr style=\"text-align: right;\">\n",
       "      <th></th>\n",
       "      <th>REGIONID</th>\n",
       "      <th>PRODUCT</th>\n",
       "      <th>YEARWEEK</th>\n",
       "      <th>QTY</th>\n",
       "      <th>NEW_QTY</th>\n",
       "      <th>WEEK</th>\n",
       "      <th>YEAR</th>\n",
       "    </tr>\n",
       "  </thead>\n",
       "  <tbody>\n",
       "    <tr>\n",
       "      <th>0</th>\n",
       "      <td>A60</td>\n",
       "      <td>PRODUCT4</td>\n",
       "      <td>201402</td>\n",
       "      <td>71.0</td>\n",
       "      <td>71.0</td>\n",
       "      <td>2</td>\n",
       "      <td>2016</td>\n",
       "    </tr>\n",
       "    <tr>\n",
       "      <th>1</th>\n",
       "      <td>A60</td>\n",
       "      <td>PRODUCT59</td>\n",
       "      <td>201402</td>\n",
       "      <td>22275.0</td>\n",
       "      <td>22275.0</td>\n",
       "      <td>2</td>\n",
       "      <td>2016</td>\n",
       "    </tr>\n",
       "    <tr>\n",
       "      <th>2</th>\n",
       "      <td>A60</td>\n",
       "      <td>PRODUCT34</td>\n",
       "      <td>201402</td>\n",
       "      <td>4463.0</td>\n",
       "      <td>4463.0</td>\n",
       "      <td>2</td>\n",
       "      <td>2016</td>\n",
       "    </tr>\n",
       "    <tr>\n",
       "      <th>3</th>\n",
       "      <td>A60</td>\n",
       "      <td>PRODUCT47</td>\n",
       "      <td>201402</td>\n",
       "      <td>0.0</td>\n",
       "      <td>0.0</td>\n",
       "      <td>2</td>\n",
       "      <td>2016</td>\n",
       "    </tr>\n",
       "    <tr>\n",
       "      <th>4</th>\n",
       "      <td>A60</td>\n",
       "      <td>PRODUCT56</td>\n",
       "      <td>201402</td>\n",
       "      <td>23.0</td>\n",
       "      <td>23.0</td>\n",
       "      <td>2</td>\n",
       "      <td>2016</td>\n",
       "    </tr>\n",
       "  </tbody>\n",
       "</table>\n",
       "</div>"
      ],
      "text/plain": [
       "  REGIONID    PRODUCT  YEARWEEK      QTY  NEW_QTY  WEEK  YEAR\n",
       "0      A60   PRODUCT4    201402     71.0     71.0     2  2016\n",
       "1      A60  PRODUCT59    201402  22275.0  22275.0     2  2016\n",
       "2      A60  PRODUCT34    201402   4463.0   4463.0     2  2016\n",
       "3      A60  PRODUCT47    201402      0.0      0.0     2  2016\n",
       "4      A60  PRODUCT56    201402     23.0     23.0     2  2016"
      ]
     },
     "execution_count": 45,
     "metadata": {},
     "output_type": "execute_result"
    }
   ],
   "source": [
    "selloutData.head()"
   ]
  },
  {
   "cell_type": "markdown",
   "metadata": {},
   "source": [
    "##### 1) round함수 /가 아니고 // 하면 소숫점 아래자리가 반올림되어 정수형으로 변화 ( 근데 round함수는 반올림을 하기 때문에 50주차 이상이되면 반올림이 되어 연수가 올라가기 때문에 적합하지 않은 방법임)"
   ]
  },
  {
   "cell_type": "code",
   "execution_count": 69,
   "metadata": {},
   "outputs": [],
   "source": [
    "selloutData[\"YEAR\"] = round(selloutData[\"YEARWEEK\"]//100)"
   ]
  },
  {
   "cell_type": "code",
   "execution_count": 115,
   "metadata": {},
   "outputs": [],
   "source": [
    "refinedData = selloutData[selloutData.WEEK < 53]"
   ]
  },
  {
   "cell_type": "code",
   "execution_count": 116,
   "metadata": {
    "scrolled": true
   },
   "outputs": [
    {
     "data": {
      "text/html": [
       "<div>\n",
       "<style scoped>\n",
       "    .dataframe tbody tr th:only-of-type {\n",
       "        vertical-align: middle;\n",
       "    }\n",
       "\n",
       "    .dataframe tbody tr th {\n",
       "        vertical-align: top;\n",
       "    }\n",
       "\n",
       "    .dataframe thead th {\n",
       "        text-align: right;\n",
       "    }\n",
       "</style>\n",
       "<table border=\"1\" class=\"dataframe\">\n",
       "  <thead>\n",
       "    <tr style=\"text-align: right;\">\n",
       "      <th></th>\n",
       "      <th>REGIONID</th>\n",
       "      <th>PRODUCT</th>\n",
       "      <th>YEARWEEK</th>\n",
       "      <th>QTY</th>\n",
       "      <th>NEW_QTY</th>\n",
       "      <th>WEEK</th>\n",
       "      <th>YEAR</th>\n",
       "    </tr>\n",
       "  </thead>\n",
       "  <tbody>\n",
       "    <tr>\n",
       "      <th>0</th>\n",
       "      <td>A60</td>\n",
       "      <td>PRODUCT4</td>\n",
       "      <td>201402</td>\n",
       "      <td>71.0</td>\n",
       "      <td>71.0</td>\n",
       "      <td>2</td>\n",
       "      <td>2014</td>\n",
       "    </tr>\n",
       "    <tr>\n",
       "      <th>1</th>\n",
       "      <td>A60</td>\n",
       "      <td>PRODUCT59</td>\n",
       "      <td>201402</td>\n",
       "      <td>22275.0</td>\n",
       "      <td>22275.0</td>\n",
       "      <td>2</td>\n",
       "      <td>2014</td>\n",
       "    </tr>\n",
       "    <tr>\n",
       "      <th>2</th>\n",
       "      <td>A60</td>\n",
       "      <td>PRODUCT34</td>\n",
       "      <td>201402</td>\n",
       "      <td>4463.0</td>\n",
       "      <td>4463.0</td>\n",
       "      <td>2</td>\n",
       "      <td>2014</td>\n",
       "    </tr>\n",
       "    <tr>\n",
       "      <th>3</th>\n",
       "      <td>A60</td>\n",
       "      <td>PRODUCT47</td>\n",
       "      <td>201402</td>\n",
       "      <td>0.0</td>\n",
       "      <td>0.0</td>\n",
       "      <td>2</td>\n",
       "      <td>2014</td>\n",
       "    </tr>\n",
       "    <tr>\n",
       "      <th>4</th>\n",
       "      <td>A60</td>\n",
       "      <td>PRODUCT56</td>\n",
       "      <td>201402</td>\n",
       "      <td>23.0</td>\n",
       "      <td>23.0</td>\n",
       "      <td>2</td>\n",
       "      <td>2014</td>\n",
       "    </tr>\n",
       "  </tbody>\n",
       "</table>\n",
       "</div>"
      ],
      "text/plain": [
       "  REGIONID    PRODUCT  YEARWEEK      QTY  NEW_QTY  WEEK  YEAR\n",
       "0      A60   PRODUCT4    201402     71.0     71.0     2  2014\n",
       "1      A60  PRODUCT59    201402  22275.0  22275.0     2  2014\n",
       "2      A60  PRODUCT34    201402   4463.0   4463.0     2  2014\n",
       "3      A60  PRODUCT47    201402      0.0      0.0     2  2014\n",
       "4      A60  PRODUCT56    201402     23.0     23.0     2  2014"
      ]
     },
     "execution_count": 116,
     "metadata": {},
     "output_type": "execute_result"
    }
   ],
   "source": [
    "refinedData.head()"
   ]
  },
  {
   "cell_type": "markdown",
   "metadata": {},
   "source": [
    "##### 2 )따라서 int형으로 형 변환을 해주는 게 적합한 방법임\n"
   ]
  },
  {
   "cell_type": "code",
   "execution_count": 143,
   "metadata": {},
   "outputs": [],
   "source": [
    "refinedData = selloutData[selloutData.YEARWEEK%100 < 53]"
   ]
  },
  {
   "cell_type": "code",
   "execution_count": 144,
   "metadata": {},
   "outputs": [
    {
     "name": "stderr",
     "output_type": "stream",
     "text": [
      "C:\\ProgramData\\Anaconda3\\lib\\site-packages\\ipykernel_launcher.py:1: SettingWithCopyWarning: \n",
      "A value is trying to be set on a copy of a slice from a DataFrame.\n",
      "Try using .loc[row_indexer,col_indexer] = value instead\n",
      "\n",
      "See the caveats in the documentation: http://pandas.pydata.org/pandas-docs/stable/indexing.html#indexing-view-versus-copy\n",
      "  \"\"\"Entry point for launching an IPython kernel.\n"
     ]
    }
   ],
   "source": [
    "refinedData[\"TEST\"] = ((selloutData[\"YEARWEEK\"]/100).astype(int))"
   ]
  },
  {
   "cell_type": "code",
   "execution_count": 142,
   "metadata": {},
   "outputs": [
    {
     "data": {
      "text/html": [
       "<div>\n",
       "<style scoped>\n",
       "    .dataframe tbody tr th:only-of-type {\n",
       "        vertical-align: middle;\n",
       "    }\n",
       "\n",
       "    .dataframe tbody tr th {\n",
       "        vertical-align: top;\n",
       "    }\n",
       "\n",
       "    .dataframe thead th {\n",
       "        text-align: right;\n",
       "    }\n",
       "</style>\n",
       "<table border=\"1\" class=\"dataframe\">\n",
       "  <thead>\n",
       "    <tr style=\"text-align: right;\">\n",
       "      <th></th>\n",
       "      <th>REGIONID</th>\n",
       "      <th>PRODUCT</th>\n",
       "      <th>YEARWEEK</th>\n",
       "      <th>QTY</th>\n",
       "      <th>NEW_QTY</th>\n",
       "      <th>WEEK</th>\n",
       "      <th>YEAR</th>\n",
       "      <th>TEST</th>\n",
       "    </tr>\n",
       "  </thead>\n",
       "  <tbody>\n",
       "    <tr>\n",
       "      <th>0</th>\n",
       "      <td>A60</td>\n",
       "      <td>PRODUCT4</td>\n",
       "      <td>201402</td>\n",
       "      <td>71.0</td>\n",
       "      <td>71.0</td>\n",
       "      <td>2</td>\n",
       "      <td>2014</td>\n",
       "      <td>2014</td>\n",
       "    </tr>\n",
       "    <tr>\n",
       "      <th>1</th>\n",
       "      <td>A60</td>\n",
       "      <td>PRODUCT59</td>\n",
       "      <td>201402</td>\n",
       "      <td>22275.0</td>\n",
       "      <td>22275.0</td>\n",
       "      <td>2</td>\n",
       "      <td>2014</td>\n",
       "      <td>2014</td>\n",
       "    </tr>\n",
       "    <tr>\n",
       "      <th>2</th>\n",
       "      <td>A60</td>\n",
       "      <td>PRODUCT34</td>\n",
       "      <td>201402</td>\n",
       "      <td>4463.0</td>\n",
       "      <td>4463.0</td>\n",
       "      <td>2</td>\n",
       "      <td>2014</td>\n",
       "      <td>2014</td>\n",
       "    </tr>\n",
       "    <tr>\n",
       "      <th>3</th>\n",
       "      <td>A60</td>\n",
       "      <td>PRODUCT47</td>\n",
       "      <td>201402</td>\n",
       "      <td>0.0</td>\n",
       "      <td>0.0</td>\n",
       "      <td>2</td>\n",
       "      <td>2014</td>\n",
       "      <td>2014</td>\n",
       "    </tr>\n",
       "    <tr>\n",
       "      <th>4</th>\n",
       "      <td>A60</td>\n",
       "      <td>PRODUCT56</td>\n",
       "      <td>201402</td>\n",
       "      <td>23.0</td>\n",
       "      <td>23.0</td>\n",
       "      <td>2</td>\n",
       "      <td>2014</td>\n",
       "      <td>2014</td>\n",
       "    </tr>\n",
       "  </tbody>\n",
       "</table>\n",
       "</div>"
      ],
      "text/plain": [
       "  REGIONID    PRODUCT  YEARWEEK      QTY  NEW_QTY  WEEK  YEAR  TEST\n",
       "0      A60   PRODUCT4    201402     71.0     71.0     2  2014  2014\n",
       "1      A60  PRODUCT59    201402  22275.0  22275.0     2  2014  2014\n",
       "2      A60  PRODUCT34    201402   4463.0   4463.0     2  2014  2014\n",
       "3      A60  PRODUCT47    201402      0.0      0.0     2  2014  2014\n",
       "4      A60  PRODUCT56    201402     23.0     23.0     2  2014  2014"
      ]
     },
     "execution_count": 142,
     "metadata": {},
     "output_type": "execute_result"
    }
   ],
   "source": [
    "refinedData.head()"
   ]
  },
  {
   "cell_type": "markdown",
   "metadata": {},
   "source": [
    "###  깰끔~ 해보이기 위해서 정렬!"
   ]
  },
  {
   "cell_type": "code",
   "execution_count": 120,
   "metadata": {},
   "outputs": [],
   "source": [
    "sortKey = [\"REGIONID\",\"PRODUCT\", \"YEARWEEK\"]"
   ]
  },
  {
   "cell_type": "code",
   "execution_count": 121,
   "metadata": {},
   "outputs": [],
   "source": [
    "sortedData = refinedData.sort_values(sortKey)"
   ]
  },
  {
   "cell_type": "code",
   "execution_count": 122,
   "metadata": {},
   "outputs": [
    {
     "data": {
      "text/html": [
       "<div>\n",
       "<style scoped>\n",
       "    .dataframe tbody tr th:only-of-type {\n",
       "        vertical-align: middle;\n",
       "    }\n",
       "\n",
       "    .dataframe tbody tr th {\n",
       "        vertical-align: top;\n",
       "    }\n",
       "\n",
       "    .dataframe thead th {\n",
       "        text-align: right;\n",
       "    }\n",
       "</style>\n",
       "<table border=\"1\" class=\"dataframe\">\n",
       "  <thead>\n",
       "    <tr style=\"text-align: right;\">\n",
       "      <th></th>\n",
       "      <th>REGIONID</th>\n",
       "      <th>PRODUCT</th>\n",
       "      <th>YEARWEEK</th>\n",
       "      <th>QTY</th>\n",
       "      <th>NEW_QTY</th>\n",
       "      <th>WEEK</th>\n",
       "      <th>YEAR</th>\n",
       "      <th>TEST</th>\n",
       "    </tr>\n",
       "  </thead>\n",
       "  <tbody>\n",
       "    <tr>\n",
       "      <th>298</th>\n",
       "      <td>A00</td>\n",
       "      <td>PRODUCT34</td>\n",
       "      <td>201401</td>\n",
       "      <td>661.0</td>\n",
       "      <td>661.0</td>\n",
       "      <td>1</td>\n",
       "      <td>2014</td>\n",
       "      <td>2014</td>\n",
       "    </tr>\n",
       "    <tr>\n",
       "      <th>1757</th>\n",
       "      <td>A00</td>\n",
       "      <td>PRODUCT34</td>\n",
       "      <td>201402</td>\n",
       "      <td>679.0</td>\n",
       "      <td>679.0</td>\n",
       "      <td>2</td>\n",
       "      <td>2014</td>\n",
       "      <td>2014</td>\n",
       "    </tr>\n",
       "    <tr>\n",
       "      <th>3125</th>\n",
       "      <td>A00</td>\n",
       "      <td>PRODUCT34</td>\n",
       "      <td>201403</td>\n",
       "      <td>578.0</td>\n",
       "      <td>578.0</td>\n",
       "      <td>3</td>\n",
       "      <td>2014</td>\n",
       "      <td>2014</td>\n",
       "    </tr>\n",
       "    <tr>\n",
       "      <th>205</th>\n",
       "      <td>A00</td>\n",
       "      <td>PRODUCT34</td>\n",
       "      <td>201404</td>\n",
       "      <td>532.0</td>\n",
       "      <td>532.0</td>\n",
       "      <td>4</td>\n",
       "      <td>2014</td>\n",
       "      <td>2014</td>\n",
       "    </tr>\n",
       "    <tr>\n",
       "      <th>4369</th>\n",
       "      <td>A00</td>\n",
       "      <td>PRODUCT34</td>\n",
       "      <td>201405</td>\n",
       "      <td>516.0</td>\n",
       "      <td>516.0</td>\n",
       "      <td>5</td>\n",
       "      <td>2014</td>\n",
       "      <td>2014</td>\n",
       "    </tr>\n",
       "  </tbody>\n",
       "</table>\n",
       "</div>"
      ],
      "text/plain": [
       "     REGIONID    PRODUCT  YEARWEEK    QTY  NEW_QTY  WEEK  YEAR  TEST\n",
       "298       A00  PRODUCT34    201401  661.0    661.0     1  2014  2014\n",
       "1757      A00  PRODUCT34    201402  679.0    679.0     2  2014  2014\n",
       "3125      A00  PRODUCT34    201403  578.0    578.0     3  2014  2014\n",
       "205       A00  PRODUCT34    201404  532.0    532.0     4  2014  2014\n",
       "4369      A00  PRODUCT34    201405  516.0    516.0     5  2014  2014"
      ]
     },
     "execution_count": 122,
     "metadata": {},
     "output_type": "execute_result"
    }
   ],
   "source": [
    "sortedData.head()"
   ]
  },
  {
   "cell_type": "markdown",
   "metadata": {},
   "source": [
    "##### 여기서 앞 줄 인덱스가 걸리적 거린다면 "
   ]
  },
  {
   "cell_type": "code",
   "execution_count": 134,
   "metadata": {},
   "outputs": [],
   "source": [
    "step1Data =sortedData.reset_index()"
   ]
  },
  {
   "cell_type": "code",
   "execution_count": 124,
   "metadata": {
    "scrolled": true
   },
   "outputs": [
    {
     "data": {
      "text/html": [
       "<div>\n",
       "<style scoped>\n",
       "    .dataframe tbody tr th:only-of-type {\n",
       "        vertical-align: middle;\n",
       "    }\n",
       "\n",
       "    .dataframe tbody tr th {\n",
       "        vertical-align: top;\n",
       "    }\n",
       "\n",
       "    .dataframe thead th {\n",
       "        text-align: right;\n",
       "    }\n",
       "</style>\n",
       "<table border=\"1\" class=\"dataframe\">\n",
       "  <thead>\n",
       "    <tr style=\"text-align: right;\">\n",
       "      <th></th>\n",
       "      <th>index</th>\n",
       "      <th>REGIONID</th>\n",
       "      <th>PRODUCT</th>\n",
       "      <th>YEARWEEK</th>\n",
       "      <th>QTY</th>\n",
       "      <th>NEW_QTY</th>\n",
       "      <th>WEEK</th>\n",
       "      <th>YEAR</th>\n",
       "      <th>TEST</th>\n",
       "    </tr>\n",
       "  </thead>\n",
       "  <tbody>\n",
       "    <tr>\n",
       "      <th>0</th>\n",
       "      <td>298</td>\n",
       "      <td>A00</td>\n",
       "      <td>PRODUCT34</td>\n",
       "      <td>201401</td>\n",
       "      <td>661.0</td>\n",
       "      <td>661.0</td>\n",
       "      <td>1</td>\n",
       "      <td>2014</td>\n",
       "      <td>2014</td>\n",
       "    </tr>\n",
       "    <tr>\n",
       "      <th>1</th>\n",
       "      <td>1757</td>\n",
       "      <td>A00</td>\n",
       "      <td>PRODUCT34</td>\n",
       "      <td>201402</td>\n",
       "      <td>679.0</td>\n",
       "      <td>679.0</td>\n",
       "      <td>2</td>\n",
       "      <td>2014</td>\n",
       "      <td>2014</td>\n",
       "    </tr>\n",
       "    <tr>\n",
       "      <th>2</th>\n",
       "      <td>3125</td>\n",
       "      <td>A00</td>\n",
       "      <td>PRODUCT34</td>\n",
       "      <td>201403</td>\n",
       "      <td>578.0</td>\n",
       "      <td>578.0</td>\n",
       "      <td>3</td>\n",
       "      <td>2014</td>\n",
       "      <td>2014</td>\n",
       "    </tr>\n",
       "    <tr>\n",
       "      <th>3</th>\n",
       "      <td>205</td>\n",
       "      <td>A00</td>\n",
       "      <td>PRODUCT34</td>\n",
       "      <td>201404</td>\n",
       "      <td>532.0</td>\n",
       "      <td>532.0</td>\n",
       "      <td>4</td>\n",
       "      <td>2014</td>\n",
       "      <td>2014</td>\n",
       "    </tr>\n",
       "    <tr>\n",
       "      <th>4</th>\n",
       "      <td>4369</td>\n",
       "      <td>A00</td>\n",
       "      <td>PRODUCT34</td>\n",
       "      <td>201405</td>\n",
       "      <td>516.0</td>\n",
       "      <td>516.0</td>\n",
       "      <td>5</td>\n",
       "      <td>2014</td>\n",
       "      <td>2014</td>\n",
       "    </tr>\n",
       "  </tbody>\n",
       "</table>\n",
       "</div>"
      ],
      "text/plain": [
       "   index REGIONID    PRODUCT  YEARWEEK    QTY  NEW_QTY  WEEK  YEAR  TEST\n",
       "0    298      A00  PRODUCT34    201401  661.0    661.0     1  2014  2014\n",
       "1   1757      A00  PRODUCT34    201402  679.0    679.0     2  2014  2014\n",
       "2   3125      A00  PRODUCT34    201403  578.0    578.0     3  2014  2014\n",
       "3    205      A00  PRODUCT34    201404  532.0    532.0     4  2014  2014\n",
       "4   4369      A00  PRODUCT34    201405  516.0    516.0     5  2014  2014"
      ]
     },
     "execution_count": 124,
     "metadata": {},
     "output_type": "execute_result"
    }
   ],
   "source": [
    "step1Data.head()"
   ]
  },
  {
   "cell_type": "markdown",
   "metadata": {},
   "source": [
    "##### 또는 .."
   ]
  },
  {
   "cell_type": "code",
   "execution_count": 154,
   "metadata": {},
   "outputs": [],
   "source": [
    "step1Data =sortedData.reset_index(drop=True)"
   ]
  },
  {
   "cell_type": "code",
   "execution_count": 153,
   "metadata": {
    "scrolled": true
   },
   "outputs": [
    {
     "data": {
      "text/html": [
       "<div>\n",
       "<style scoped>\n",
       "    .dataframe tbody tr th:only-of-type {\n",
       "        vertical-align: middle;\n",
       "    }\n",
       "\n",
       "    .dataframe tbody tr th {\n",
       "        vertical-align: top;\n",
       "    }\n",
       "\n",
       "    .dataframe thead th {\n",
       "        text-align: right;\n",
       "    }\n",
       "</style>\n",
       "<table border=\"1\" class=\"dataframe\">\n",
       "  <thead>\n",
       "    <tr style=\"text-align: right;\">\n",
       "      <th></th>\n",
       "      <th>REGIONID</th>\n",
       "      <th>PRODUCT</th>\n",
       "      <th>YEARWEEK</th>\n",
       "      <th>QTY</th>\n",
       "      <th>NEW_QTY</th>\n",
       "      <th>WEEK</th>\n",
       "      <th>YEAR</th>\n",
       "      <th>TEST</th>\n",
       "    </tr>\n",
       "  </thead>\n",
       "  <tbody>\n",
       "    <tr>\n",
       "      <th>0</th>\n",
       "      <td>A00</td>\n",
       "      <td>PRODUCT34</td>\n",
       "      <td>201401</td>\n",
       "      <td>661.0</td>\n",
       "      <td>661.0</td>\n",
       "      <td>1</td>\n",
       "      <td>2014</td>\n",
       "      <td>2014</td>\n",
       "    </tr>\n",
       "    <tr>\n",
       "      <th>1</th>\n",
       "      <td>A00</td>\n",
       "      <td>PRODUCT34</td>\n",
       "      <td>201402</td>\n",
       "      <td>679.0</td>\n",
       "      <td>679.0</td>\n",
       "      <td>2</td>\n",
       "      <td>2014</td>\n",
       "      <td>2014</td>\n",
       "    </tr>\n",
       "    <tr>\n",
       "      <th>2</th>\n",
       "      <td>A00</td>\n",
       "      <td>PRODUCT34</td>\n",
       "      <td>201403</td>\n",
       "      <td>578.0</td>\n",
       "      <td>578.0</td>\n",
       "      <td>3</td>\n",
       "      <td>2014</td>\n",
       "      <td>2014</td>\n",
       "    </tr>\n",
       "    <tr>\n",
       "      <th>3</th>\n",
       "      <td>A00</td>\n",
       "      <td>PRODUCT34</td>\n",
       "      <td>201404</td>\n",
       "      <td>532.0</td>\n",
       "      <td>532.0</td>\n",
       "      <td>4</td>\n",
       "      <td>2014</td>\n",
       "      <td>2014</td>\n",
       "    </tr>\n",
       "    <tr>\n",
       "      <th>4</th>\n",
       "      <td>A00</td>\n",
       "      <td>PRODUCT34</td>\n",
       "      <td>201405</td>\n",
       "      <td>516.0</td>\n",
       "      <td>516.0</td>\n",
       "      <td>5</td>\n",
       "      <td>2014</td>\n",
       "      <td>2014</td>\n",
       "    </tr>\n",
       "  </tbody>\n",
       "</table>\n",
       "</div>"
      ],
      "text/plain": [
       "  REGIONID    PRODUCT  YEARWEEK    QTY  NEW_QTY  WEEK  YEAR  TEST\n",
       "0      A00  PRODUCT34    201401  661.0    661.0     1  2014  2014\n",
       "1      A00  PRODUCT34    201402  679.0    679.0     2  2014  2014\n",
       "2      A00  PRODUCT34    201403  578.0    578.0     3  2014  2014\n",
       "3      A00  PRODUCT34    201404  532.0    532.0     4  2014  2014\n",
       "4      A00  PRODUCT34    201405  516.0    516.0     5  2014  2014"
      ]
     },
     "execution_count": 153,
     "metadata": {},
     "output_type": "execute_result"
    }
   ],
   "source": [
    "step1Data.head()"
   ]
  },
  {
   "cell_type": "code",
   "execution_count": 158,
   "metadata": {},
   "outputs": [
    {
     "data": {
      "text/html": [
       "<div>\n",
       "<style scoped>\n",
       "    .dataframe tbody tr th:only-of-type {\n",
       "        vertical-align: middle;\n",
       "    }\n",
       "\n",
       "    .dataframe tbody tr th {\n",
       "        vertical-align: top;\n",
       "    }\n",
       "\n",
       "    .dataframe thead th {\n",
       "        text-align: right;\n",
       "    }\n",
       "</style>\n",
       "<table border=\"1\" class=\"dataframe\">\n",
       "  <thead>\n",
       "    <tr style=\"text-align: right;\">\n",
       "      <th></th>\n",
       "      <th>index</th>\n",
       "      <th>REGIONID</th>\n",
       "      <th>PRODUCT</th>\n",
       "      <th>YEARWEEK</th>\n",
       "      <th>QTY</th>\n",
       "      <th>NEW_QTY</th>\n",
       "      <th>WEEK</th>\n",
       "      <th>YEAR</th>\n",
       "      <th>TEST</th>\n",
       "    </tr>\n",
       "  </thead>\n",
       "  <tbody>\n",
       "    <tr>\n",
       "      <th>0</th>\n",
       "      <td>298</td>\n",
       "      <td>A00</td>\n",
       "      <td>PRODUCT34</td>\n",
       "      <td>201401</td>\n",
       "      <td>661.0</td>\n",
       "      <td>661.0</td>\n",
       "      <td>1</td>\n",
       "      <td>2014</td>\n",
       "      <td>2014</td>\n",
       "    </tr>\n",
       "    <tr>\n",
       "      <th>1</th>\n",
       "      <td>1757</td>\n",
       "      <td>A00</td>\n",
       "      <td>PRODUCT34</td>\n",
       "      <td>201402</td>\n",
       "      <td>679.0</td>\n",
       "      <td>679.0</td>\n",
       "      <td>2</td>\n",
       "      <td>2014</td>\n",
       "      <td>2014</td>\n",
       "    </tr>\n",
       "    <tr>\n",
       "      <th>2</th>\n",
       "      <td>3125</td>\n",
       "      <td>A00</td>\n",
       "      <td>PRODUCT34</td>\n",
       "      <td>201403</td>\n",
       "      <td>578.0</td>\n",
       "      <td>578.0</td>\n",
       "      <td>3</td>\n",
       "      <td>2014</td>\n",
       "      <td>2014</td>\n",
       "    </tr>\n",
       "    <tr>\n",
       "      <th>3</th>\n",
       "      <td>205</td>\n",
       "      <td>A00</td>\n",
       "      <td>PRODUCT34</td>\n",
       "      <td>201404</td>\n",
       "      <td>532.0</td>\n",
       "      <td>532.0</td>\n",
       "      <td>4</td>\n",
       "      <td>2014</td>\n",
       "      <td>2014</td>\n",
       "    </tr>\n",
       "    <tr>\n",
       "      <th>4</th>\n",
       "      <td>4369</td>\n",
       "      <td>A00</td>\n",
       "      <td>PRODUCT34</td>\n",
       "      <td>201405</td>\n",
       "      <td>516.0</td>\n",
       "      <td>516.0</td>\n",
       "      <td>5</td>\n",
       "      <td>2014</td>\n",
       "      <td>2014</td>\n",
       "    </tr>\n",
       "  </tbody>\n",
       "</table>\n",
       "</div>"
      ],
      "text/plain": [
       "   index REGIONID    PRODUCT  YEARWEEK    QTY  NEW_QTY  WEEK  YEAR  TEST\n",
       "0    298      A00  PRODUCT34    201401  661.0    661.0     1  2014  2014\n",
       "1   1757      A00  PRODUCT34    201402  679.0    679.0     2  2014  2014\n",
       "2   3125      A00  PRODUCT34    201403  578.0    578.0     3  2014  2014\n",
       "3    205      A00  PRODUCT34    201404  532.0    532.0     4  2014  2014\n",
       "4   4369      A00  PRODUCT34    201405  516.0    516.0     5  2014  2014"
      ]
     },
     "execution_count": 158,
     "metadata": {},
     "output_type": "execute_result"
    }
   ],
   "source": [
    "step1Data =sortedData.reset_index(drop=False)\n",
    "step1Data.head()"
   ]
  },
  {
   "cell_type": "markdown",
   "metadata": {},
   "source": [
    "### rolling 함수 사용하기!! (정렬을 하고 사용해야 함) "
   ]
  },
  {
   "cell_type": "markdown",
   "metadata": {},
   "source": [
    "### 1.기본 이동평균 함수"
   ]
  },
  {
   "cell_type": "code",
   "execution_count": 159,
   "metadata": {},
   "outputs": [],
   "source": [
    "step1Data[\"MA\"]=step1Data.NEW_QTY.rolling(window=15, center=True).mean()"
   ]
  },
  {
   "cell_type": "code",
   "execution_count": 160,
   "metadata": {},
   "outputs": [
    {
     "data": {
      "text/html": [
       "<div>\n",
       "<style scoped>\n",
       "    .dataframe tbody tr th:only-of-type {\n",
       "        vertical-align: middle;\n",
       "    }\n",
       "\n",
       "    .dataframe tbody tr th {\n",
       "        vertical-align: top;\n",
       "    }\n",
       "\n",
       "    .dataframe thead th {\n",
       "        text-align: right;\n",
       "    }\n",
       "</style>\n",
       "<table border=\"1\" class=\"dataframe\">\n",
       "  <thead>\n",
       "    <tr style=\"text-align: right;\">\n",
       "      <th></th>\n",
       "      <th>index</th>\n",
       "      <th>REGIONID</th>\n",
       "      <th>PRODUCT</th>\n",
       "      <th>YEARWEEK</th>\n",
       "      <th>QTY</th>\n",
       "      <th>NEW_QTY</th>\n",
       "      <th>WEEK</th>\n",
       "      <th>YEAR</th>\n",
       "      <th>TEST</th>\n",
       "      <th>MA</th>\n",
       "    </tr>\n",
       "  </thead>\n",
       "  <tbody>\n",
       "    <tr>\n",
       "      <th>0</th>\n",
       "      <td>298</td>\n",
       "      <td>A00</td>\n",
       "      <td>PRODUCT34</td>\n",
       "      <td>201401</td>\n",
       "      <td>661.0</td>\n",
       "      <td>661.0</td>\n",
       "      <td>1</td>\n",
       "      <td>2014</td>\n",
       "      <td>2014</td>\n",
       "      <td>NaN</td>\n",
       "    </tr>\n",
       "    <tr>\n",
       "      <th>1</th>\n",
       "      <td>1757</td>\n",
       "      <td>A00</td>\n",
       "      <td>PRODUCT34</td>\n",
       "      <td>201402</td>\n",
       "      <td>679.0</td>\n",
       "      <td>679.0</td>\n",
       "      <td>2</td>\n",
       "      <td>2014</td>\n",
       "      <td>2014</td>\n",
       "      <td>NaN</td>\n",
       "    </tr>\n",
       "    <tr>\n",
       "      <th>2</th>\n",
       "      <td>3125</td>\n",
       "      <td>A00</td>\n",
       "      <td>PRODUCT34</td>\n",
       "      <td>201403</td>\n",
       "      <td>578.0</td>\n",
       "      <td>578.0</td>\n",
       "      <td>3</td>\n",
       "      <td>2014</td>\n",
       "      <td>2014</td>\n",
       "      <td>NaN</td>\n",
       "    </tr>\n",
       "    <tr>\n",
       "      <th>3</th>\n",
       "      <td>205</td>\n",
       "      <td>A00</td>\n",
       "      <td>PRODUCT34</td>\n",
       "      <td>201404</td>\n",
       "      <td>532.0</td>\n",
       "      <td>532.0</td>\n",
       "      <td>4</td>\n",
       "      <td>2014</td>\n",
       "      <td>2014</td>\n",
       "      <td>NaN</td>\n",
       "    </tr>\n",
       "    <tr>\n",
       "      <th>4</th>\n",
       "      <td>4369</td>\n",
       "      <td>A00</td>\n",
       "      <td>PRODUCT34</td>\n",
       "      <td>201405</td>\n",
       "      <td>516.0</td>\n",
       "      <td>516.0</td>\n",
       "      <td>5</td>\n",
       "      <td>2014</td>\n",
       "      <td>2014</td>\n",
       "      <td>NaN</td>\n",
       "    </tr>\n",
       "  </tbody>\n",
       "</table>\n",
       "</div>"
      ],
      "text/plain": [
       "   index REGIONID    PRODUCT  YEARWEEK    QTY  NEW_QTY  WEEK  YEAR  TEST  MA\n",
       "0    298      A00  PRODUCT34    201401  661.0    661.0     1  2014  2014 NaN\n",
       "1   1757      A00  PRODUCT34    201402  679.0    679.0     2  2014  2014 NaN\n",
       "2   3125      A00  PRODUCT34    201403  578.0    578.0     3  2014  2014 NaN\n",
       "3    205      A00  PRODUCT34    201404  532.0    532.0     4  2014  2014 NaN\n",
       "4   4369      A00  PRODUCT34    201405  516.0    516.0     5  2014  2014 NaN"
      ]
     },
     "execution_count": 160,
     "metadata": {},
     "output_type": "execute_result"
    }
   ],
   "source": [
    "step1Data.head()"
   ]
  },
  {
   "cell_type": "markdown",
   "metadata": {},
   "source": [
    "#### 위에서 NAN을 없애려면 어떻게 해야 할까? "
   ]
  },
  {
   "cell_type": "markdown",
   "metadata": {},
   "source": [
    "##### min_period 이용--rolling함수:이동평균 구하는 함수, \n",
    "##### 해석 : (window=15:총 15개의 이동평균을 구하겠다, center=true: 내 자신을 7번째로, 즉 가운데로 놓고 이동평균을 구하겠다, min_periods =1 : 원래는 평균이 15개의 값을 구해야 하지만 최소로 1개 있을 때도 평균을 구하겠다, .mean()는 평균을 구하겠다-> .max(), .min()등으로 사용에 따라 변경 가능 )"
   ]
  },
  {
   "cell_type": "code",
   "execution_count": 161,
   "metadata": {},
   "outputs": [],
   "source": [
    "step1Data[\"MA\"] = step1Data.NEW_QTY.rolling(\n",
    "    window=15, center=True, min_periods =1).mean()"
   ]
  },
  {
   "cell_type": "code",
   "execution_count": 162,
   "metadata": {},
   "outputs": [
    {
     "data": {
      "text/html": [
       "<div>\n",
       "<style scoped>\n",
       "    .dataframe tbody tr th:only-of-type {\n",
       "        vertical-align: middle;\n",
       "    }\n",
       "\n",
       "    .dataframe tbody tr th {\n",
       "        vertical-align: top;\n",
       "    }\n",
       "\n",
       "    .dataframe thead th {\n",
       "        text-align: right;\n",
       "    }\n",
       "</style>\n",
       "<table border=\"1\" class=\"dataframe\">\n",
       "  <thead>\n",
       "    <tr style=\"text-align: right;\">\n",
       "      <th></th>\n",
       "      <th>index</th>\n",
       "      <th>REGIONID</th>\n",
       "      <th>PRODUCT</th>\n",
       "      <th>YEARWEEK</th>\n",
       "      <th>QTY</th>\n",
       "      <th>NEW_QTY</th>\n",
       "      <th>WEEK</th>\n",
       "      <th>YEAR</th>\n",
       "      <th>TEST</th>\n",
       "      <th>MA</th>\n",
       "    </tr>\n",
       "  </thead>\n",
       "  <tbody>\n",
       "    <tr>\n",
       "      <th>0</th>\n",
       "      <td>298</td>\n",
       "      <td>A00</td>\n",
       "      <td>PRODUCT34</td>\n",
       "      <td>201401</td>\n",
       "      <td>661.0</td>\n",
       "      <td>661.0</td>\n",
       "      <td>1</td>\n",
       "      <td>2014</td>\n",
       "      <td>2014</td>\n",
       "      <td>520.000000</td>\n",
       "    </tr>\n",
       "    <tr>\n",
       "      <th>1</th>\n",
       "      <td>1757</td>\n",
       "      <td>A00</td>\n",
       "      <td>PRODUCT34</td>\n",
       "      <td>201402</td>\n",
       "      <td>679.0</td>\n",
       "      <td>679.0</td>\n",
       "      <td>2</td>\n",
       "      <td>2014</td>\n",
       "      <td>2014</td>\n",
       "      <td>514.444444</td>\n",
       "    </tr>\n",
       "    <tr>\n",
       "      <th>2</th>\n",
       "      <td>3125</td>\n",
       "      <td>A00</td>\n",
       "      <td>PRODUCT34</td>\n",
       "      <td>201403</td>\n",
       "      <td>578.0</td>\n",
       "      <td>578.0</td>\n",
       "      <td>3</td>\n",
       "      <td>2014</td>\n",
       "      <td>2014</td>\n",
       "      <td>516.800000</td>\n",
       "    </tr>\n",
       "    <tr>\n",
       "      <th>3</th>\n",
       "      <td>205</td>\n",
       "      <td>A00</td>\n",
       "      <td>PRODUCT34</td>\n",
       "      <td>201404</td>\n",
       "      <td>532.0</td>\n",
       "      <td>532.0</td>\n",
       "      <td>4</td>\n",
       "      <td>2014</td>\n",
       "      <td>2014</td>\n",
       "      <td>503.363636</td>\n",
       "    </tr>\n",
       "    <tr>\n",
       "      <th>4</th>\n",
       "      <td>4369</td>\n",
       "      <td>A00</td>\n",
       "      <td>PRODUCT34</td>\n",
       "      <td>201405</td>\n",
       "      <td>516.0</td>\n",
       "      <td>516.0</td>\n",
       "      <td>5</td>\n",
       "      <td>2014</td>\n",
       "      <td>2014</td>\n",
       "      <td>490.750000</td>\n",
       "    </tr>\n",
       "  </tbody>\n",
       "</table>\n",
       "</div>"
      ],
      "text/plain": [
       "   index REGIONID    PRODUCT  YEARWEEK    QTY  NEW_QTY  WEEK  YEAR  TEST  \\\n",
       "0    298      A00  PRODUCT34    201401  661.0    661.0     1  2014  2014   \n",
       "1   1757      A00  PRODUCT34    201402  679.0    679.0     2  2014  2014   \n",
       "2   3125      A00  PRODUCT34    201403  578.0    578.0     3  2014  2014   \n",
       "3    205      A00  PRODUCT34    201404  532.0    532.0     4  2014  2014   \n",
       "4   4369      A00  PRODUCT34    201405  516.0    516.0     5  2014  2014   \n",
       "\n",
       "           MA  \n",
       "0  520.000000  \n",
       "1  514.444444  \n",
       "2  516.800000  \n",
       "3  503.363636  \n",
       "4  490.750000  "
      ]
     },
     "execution_count": 162,
     "metadata": {},
     "output_type": "execute_result"
    }
   ],
   "source": [
    "step1Data.head()"
   ]
  },
  {
   "cell_type": "markdown",
   "metadata": {},
   "source": [
    "#### result라는 csv 파일로 ./ 현재 경로에 저장하는 명령어"
   ]
  },
  {
   "cell_type": "code",
   "execution_count": 163,
   "metadata": {},
   "outputs": [],
   "source": [
    "step1Data.to_csv(\"./result.csv\")"
   ]
  },
  {
   "cell_type": "code",
   "execution_count": 164,
   "metadata": {},
   "outputs": [
    {
     "data": {
      "text/plain": [
       "'C:\\\\Users\\\\SMART-12\\\\Python_Fintech\\\\4.04 Project Seasonality'"
      ]
     },
     "execution_count": 164,
     "metadata": {},
     "output_type": "execute_result"
    }
   ],
   "source": [
    "pwd"
   ]
  },
  {
   "cell_type": "code",
   "execution_count": null,
   "metadata": {},
   "outputs": [],
   "source": []
  },
  {
   "cell_type": "code",
   "execution_count": 165,
   "metadata": {},
   "outputs": [],
   "source": [
    "groupKey = [\"REGIONID\",\"PRODUCT\",\"YEAR\"]"
   ]
  },
  {
   "cell_type": "code",
   "execution_count": null,
   "metadata": {},
   "outputs": [],
   "source": []
  },
  {
   "cell_type": "code",
   "execution_count": null,
   "metadata": {},
   "outputs": [],
   "source": []
  },
  {
   "cell_type": "code",
   "execution_count": null,
   "metadata": {},
   "outputs": [],
   "source": []
  },
  {
   "cell_type": "code",
   "execution_count": null,
   "metadata": {},
   "outputs": [],
   "source": []
  },
  {
   "cell_type": "code",
   "execution_count": null,
   "metadata": {},
   "outputs": [],
   "source": []
  },
  {
   "cell_type": "code",
   "execution_count": null,
   "metadata": {},
   "outputs": [],
   "source": []
  }
 ],
 "metadata": {
  "kernelspec": {
   "display_name": "Python 3",
   "language": "python",
   "name": "python3"
  },
  "language_info": {
   "codemirror_mode": {
    "name": "ipython",
    "version": 3
   },
   "file_extension": ".py",
   "mimetype": "text/x-python",
   "name": "python",
   "nbconvert_exporter": "python",
   "pygments_lexer": "ipython3",
   "version": "3.6.4"
  }
 },
 "nbformat": 4,
 "nbformat_minor": 2
}
