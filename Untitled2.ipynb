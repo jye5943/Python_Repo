{
 "cells": [
  {
   "cell_type": "code",
   "execution_count": 13,
   "metadata": {},
   "outputs": [
    {
     "ename": "SyntaxError",
     "evalue": "invalid syntax (<ipython-input-13-11d88fa0a1c7>, line 1)",
     "output_type": "error",
     "traceback": [
      "\u001b[1;36m  File \u001b[1;32m\"<ipython-input-13-11d88fa0a1c7>\"\u001b[1;36m, line \u001b[1;32m1\u001b[0m\n\u001b[1;33m    var staticUrl = \"jdbc:postgresql://13.209.112.251:5432/postgres\"\u001b[0m\n\u001b[1;37m                ^\u001b[0m\n\u001b[1;31mSyntaxError\u001b[0m\u001b[1;31m:\u001b[0m invalid syntax\n"
     ]
    }
   ],
   "source": [
    "var staticUrl = \"jdbc:postgresql://192.168.110.111:5432/postgres\"\n",
    "var staticUser = \"kopo\"\n",
    "var staticPw =\"kopo\"\n",
    "var selloutDb = \"select * from kopo_product_volume_정예은\"\n",
    "\n",
    "var dataFromPostgresql = spark.read.format(\"jdbc\").\n",
    "    option(\"url\",staticUrl).\n",
    "    option(\"dbtable\",selloutDb).\n",
    "    option(\"user\",staticUser).\n",
    "    option(\"password\",staticPw).load\n",
    "print(dataFromPostgresql.show(5))"
   ]
  },
  {
   "cell_type": "code",
   "execution_count": 14,
   "metadata": {},
   "outputs": [
    {
     "ename": "SyntaxError",
     "evalue": "invalid syntax (<ipython-input-14-c2015ad9ef21>, line 1)",
     "output_type": "error",
     "traceback": [
      "\u001b[1;36m  File \u001b[1;32m\"<ipython-input-14-c2015ad9ef21>\"\u001b[1;36m, line \u001b[1;32m1\u001b[0m\n\u001b[1;33m    var staticUrl = \"jdbc:postgresql://192.168.110.23:5432/postgres\"\u001b[0m\n\u001b[1;37m                ^\u001b[0m\n\u001b[1;31mSyntaxError\u001b[0m\u001b[1;31m:\u001b[0m invalid syntax\n"
     ]
    }
   ],
   "source": [
    "var staticUrl = \"jdbc:postgresql://192.168.110.23:5432/postgres\"\n",
    "var staticUser = \"postgres\"\n",
    "var staticPw = \"postgres\"\n",
    "var selloutDb = \"이신우테스트\"\n",
    " \n",
    "\n",
    "var newDf= spark.read.format(\"jdbc\").\n",
    "   option(\"url\",staticUrl).\n",
    "   option(\"dbtable\",selloutDb).\n",
    "   option(\"user\",staticUser).\n",
    "   option(\"password\",staticPw).load\n",
    "println(newDf.show(5))"
   ]
  }
 ],
 "metadata": {
  "kernelspec": {
   "display_name": "Python 3",
   "language": "python",
   "name": "python3"
  },
  "language_info": {
   "codemirror_mode": {
    "name": "ipython",
    "version": 3
   },
   "file_extension": ".py",
   "mimetype": "text/x-python",
   "name": "python",
   "nbconvert_exporter": "python",
   "pygments_lexer": "ipython3",
   "version": "3.6.4"
  }
 },
 "nbformat": 4,
 "nbformat_minor": 2
}
