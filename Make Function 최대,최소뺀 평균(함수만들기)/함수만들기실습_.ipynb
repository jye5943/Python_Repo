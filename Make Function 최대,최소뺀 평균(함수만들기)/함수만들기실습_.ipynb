{
 "cells": [
  {
   "cell_type": "markdown",
   "metadata": {},
   "source": [
    "## 실습2. 리스트를 인수로 받아서 최대, 최소값을 뺀 평균을 구하는 함수를 생성하세요.\n"
   ]
  },
  {
   "cell_type": "code",
   "execution_count": 3,
   "metadata": {},
   "outputs": [],
   "source": [
    "list2 = [32,3,4,5,41,0,3,4,4,-234]"
   ]
  },
  {
   "cell_type": "code",
   "execution_count": 4,
   "metadata": {},
   "outputs": [],
   "source": [
    "def sumStep (a) :\n",
    "    step1= sum(a)\n",
    "    step2= max(a)+min(a)\n",
    "    step3= (step1-step2) / (len(a)-2)\n",
    "    return step3\n",
    "##여기서 a라고 한 이유는 a자리에 들어가는 변수는 지역변수 이기 때문에 함수 안에서만 유효한 거기 때문이다. \n",
    "##수학에서 x,y,z 같은 역할 인 것! y=2x 처럼 정의해 주는 역할일 뿐인거지!"
   ]
  },
  {
   "cell_type": "code",
   "execution_count": 5,
   "metadata": {},
   "outputs": [
    {
     "name": "stdout",
     "output_type": "stream",
     "text": [
      "6.875\n"
     ]
    }
   ],
   "source": [
    "print(sumStep(list2))"
   ]
  },
  {
   "cell_type": "markdown",
   "metadata": {},
   "source": [
    "## 합구하기 함수만들기"
   ]
  },
  {
   "cell_type": "code",
   "execution_count": null,
   "metadata": {},
   "outputs": [],
   "source": [
    "inputList = [12,13.5,22,44]\n",
    "def sumList (inputList)\n",
    "\tsumation = 0 ##sum이라고 표기 하지 말기 예약어기 때문\n",
    "\tfor i in range(0, len(inputList)) :\n",
    "\tsumation=sumation + float(inputLIst[i])\n",
    "return sumation\n",
    "sumList(inputList)"
   ]
  },
  {
   "cell_type": "code",
   "execution_count": null,
   "metadata": {},
   "outputs": [],
   "source": []
  },
  {
   "cell_type": "code",
   "execution_count": null,
   "metadata": {},
   "outputs": [],
   "source": []
  },
  {
   "cell_type": "code",
   "execution_count": null,
   "metadata": {},
   "outputs": [],
   "source": []
  },
  {
   "cell_type": "code",
   "execution_count": null,
   "metadata": {},
   "outputs": [],
   "source": []
  }
 ],
 "metadata": {
  "kernelspec": {
   "display_name": "Python 3",
   "language": "python",
   "name": "python3"
  },
  "language_info": {
   "codemirror_mode": {
    "name": "ipython",
    "version": 3
   },
   "file_extension": ".py",
   "mimetype": "text/x-python",
   "name": "python",
   "nbconvert_exporter": "python",
   "pygments_lexer": "ipython3",
   "version": "3.6.4"
  }
 },
 "nbformat": 4,
 "nbformat_minor": 2
}
